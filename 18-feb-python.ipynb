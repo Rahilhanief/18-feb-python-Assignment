{
 "cells": [
  {
   "cell_type": "code",
   "execution_count": 3,
   "id": "3c520cf6-ef89-4894-ae4c-dc9e7d276176",
   "metadata": {},
   "outputs": [
    {
     "data": {
      "text/plain": [
       "'\\nAn API (Application Programming Interface) is a software intermediary that facilitates information exchange between \\ndifferent applications.\\nAPIs are used in web applications to connect user-facing front ends with critical back-end functionality and data. \\nAPIs are used to deliver material by streaming services such as Spotify and Netflix. \\nAPIs are used by automakers such as Tesla to provide software upgrades.\\n'"
      ]
     },
     "execution_count": 3,
     "metadata": {},
     "output_type": "execute_result"
    }
   ],
   "source": [
    "## Q No. 1 :\n",
    "\"\"\"\n",
    "An API (Application Programming Interface) is a software intermediary that facilitates information exchange between \n",
    "different applications.\n",
    "APIs are used in web applications to connect user-facing front ends with critical back-end functionality and data. \n",
    "APIs are used to deliver material by streaming services such as Spotify and Netflix. \n",
    "APIs are used by automakers such as Tesla to provide software upgrades.\n",
    "\"\"\""
   ]
  },
  {
   "cell_type": "code",
   "execution_count": 2,
   "id": "b8568702-3189-4693-a2c4-483d1929043f",
   "metadata": {},
   "outputs": [
    {
     "data": {
      "text/plain": [
       "'\\nAdvantages and Disadvantages of API Infrastructure:\\nThe future of APIs (Application Programming Interfaces) looks promising, as recent advancements indicate API solutions hold great value in the future of healthcare. For API to continue to take hold of the healthcare industry advancements will continue to be made. Review some of the current API advantages and disadvantages :\\n\\nAdvantages:\\n\\nIncreased Interoperability: API solutions enable different software systems to communicate with each other, regardless of their programming language or platform. This enhances the interoperability between systems, allowing for the exchange of data and functionality.\\nImproved Efficiency: API driven infrastructures enable developers to reuse code and functionality from existing software systems, saving time and reducing the amount of code that needs to be written from scratch.\\nBetter User Experience: APIs can enable third-party developers to create applications that integrate with existing software systems, providing a better user experience and increased functionality.\\nIncreased Flexibility: APIs provide developers with greater flexibility, enabling them to choose the best programming languages and frameworks for their needs.\\nNew Revenue Streams: APIs can enable companies to create new revenue streams by providing third-party developers with access to their software systems.\\nDisadvantages:\\nSecurity Concerns: API infrastructures can be vulnerable to security breaches, such as SQL injection attacks and cross-site scripting (XSS) attacks, making it crucial to implement security measures to protect against these threats.\\nComplexity: APIs can be complex, requiring a significant amount of development effort to implement and maintain.\\nCompatibility Issues: APIs can have compatibility issues between different versions of the same software system or between different systems, which can lead to errors and system failures.\\nDependency on Third-Party Developers: APIs rely on third-party developers to create applications that integrate with the software system. This can create dependencies that are outside of the control of the company that owns the software system.\\nGovernance and Management: APIs require proper governance and management to ensure they are being used correctly and consistently across different applications and systems.\\n'"
      ]
     },
     "execution_count": 2,
     "metadata": {},
     "output_type": "execute_result"
    }
   ],
   "source": [
    "## Q No. 2 :\n",
    "\"\"\"\n",
    "Advantages and Disadvantages of API Infrastructure:\n",
    "The future of APIs (Application Programming Interfaces) looks promising, as recent advancements indicate API solutions hold great value in the future of healthcare. For API to continue to take hold of the healthcare industry advancements will continue to be made. Review some of the current API advantages and disadvantages :\n",
    "\n",
    "Advantages:\n",
    "\n",
    "Increased Interoperability: API solutions enable different software systems to communicate with each other, regardless of their programming language or platform. This enhances the interoperability between systems, allowing for the exchange of data and functionality.\n",
    "Improved Efficiency: API driven infrastructures enable developers to reuse code and functionality from existing software systems, saving time and reducing the amount of code that needs to be written from scratch.\n",
    "Better User Experience: APIs can enable third-party developers to create applications that integrate with existing software systems, providing a better user experience and increased functionality.\n",
    "Increased Flexibility: APIs provide developers with greater flexibility, enabling them to choose the best programming languages and frameworks for their needs.\n",
    "New Revenue Streams: APIs can enable companies to create new revenue streams by providing third-party developers with access to their software systems.\n",
    "Disadvantages:\n",
    "Security Concerns: API infrastructures can be vulnerable to security breaches, such as SQL injection attacks and cross-site scripting (XSS) attacks, making it crucial to implement security measures to protect against these threats.\n",
    "Complexity: APIs can be complex, requiring a significant amount of development effort to implement and maintain.\n",
    "Compatibility Issues: APIs can have compatibility issues between different versions of the same software system or between different systems, which can lead to errors and system failures.\n",
    "Dependency on Third-Party Developers: APIs rely on third-party developers to create applications that integrate with the software system. This can create dependencies that are outside of the control of the company that owns the software system.\n",
    "Governance and Management: APIs require proper governance and management to ensure they are being used correctly and consistently across different applications and systems.\n",
    "\"\"\""
   ]
  },
  {
   "cell_type": "code",
   "execution_count": 4,
   "id": "c81d3e37-fcdb-4e63-a2f5-75c9fbf03d1b",
   "metadata": {},
   "outputs": [
    {
     "data": {
      "text/plain": [
       "\"\\nA Web API of a service is a component that defines the rules that client applications need to follow to access the service. \\nThese rules include underlying protocols, output formats, input data formats, and access and authentication mechanisms.\\nAPI is an interface that exposes an application's data to outside software, whereas web applications are one type \\nof API with stricter requirements.\\nThese requirements include network communication, SOAP as the primary protocol, and less accessibility for the public.\\n\""
      ]
     },
     "execution_count": 4,
     "metadata": {},
     "output_type": "execute_result"
    }
   ],
   "source": [
    "## Q No. 3 :\n",
    "\"\"\"\n",
    "A Web API of a service is a component that defines the rules that client applications need to follow to access the service. \n",
    "These rules include underlying protocols, output formats, input data formats, and access and authentication mechanisms.\n",
    "API is an interface that exposes an application's data to outside software, whereas web applications are one type \n",
    "of API with stricter requirements.\n",
    "These requirements include network communication, SOAP as the primary protocol, and less accessibility for the public.\n",
    "\"\"\""
   ]
  },
  {
   "cell_type": "code",
   "execution_count": 5,
   "id": "ffef01b6-77a6-45bf-95eb-77bd33139f66",
   "metadata": {},
   "outputs": [
    {
     "data": {
      "text/plain": [
       "'\\nREST is a set of guidelines that offers flexible implementation, whereas SOAP is a protocol with \\nspecific requirements like XML messaging. REST APIs are lightweight, making them ideal for newer contexts\\nlike the Internet of Things (IoT), mobile application development, and serverless computing.\\n\\nAs SOAP can only transfer messages as XML files, your SOAP API will be less performant, as XML is a verbose\\nformat compared to JSON. API calls made to your server will need more bandwidth and it will take more time to \\nprocess the request and transfer the response back to the client\\n'"
      ]
     },
     "execution_count": 5,
     "metadata": {},
     "output_type": "execute_result"
    }
   ],
   "source": [
    "## Q No. 4 :\n",
    "\"\"\"\n",
    "REST is a set of guidelines that offers flexible implementation, whereas SOAP is a protocol with \n",
    "specific requirements like XML messaging. REST APIs are lightweight, making them ideal for newer contexts\n",
    "like the Internet of Things (IoT), mobile application development, and serverless computing.\n",
    "\n",
    "As SOAP can only transfer messages as XML files, your SOAP API will be less performant, as XML is a verbose\n",
    "format compared to JSON. API calls made to your server will need more bandwidth and it will take more time to \n",
    "process the request and transfer the response back to the client\n",
    "\"\"\""
   ]
  },
  {
   "cell_type": "code",
   "execution_count": 6,
   "id": "e03a437a-d454-4813-be8b-18a2d333f354",
   "metadata": {},
   "outputs": [
    {
     "data": {
      "text/plain": [
       "'\\nSOAP is a protocol, whereas REST is an architectural style\\n\\nFor example, a SOAP API that exposes functionality to create a user might include a function called \"CreateUser\"\\nthat would be specified in the SOAP body. \\nA REST API would instead expose a URL /users, and a POST request towards that URL would create a user.\\n'"
      ]
     },
     "execution_count": 6,
     "metadata": {},
     "output_type": "execute_result"
    }
   ],
   "source": [
    "## Q No. 5 :\n",
    "\"\"\"\n",
    "SOAP is a protocol, whereas REST is an architectural style\n",
    "\n",
    "For example, a SOAP API that exposes functionality to create a user might include a function called \"CreateUser\"\n",
    "that would be specified in the SOAP body. \n",
    "A REST API would instead expose a URL /users, and a POST request towards that URL would create a user.\n",
    "\"\"\""
   ]
  }
 ],
 "metadata": {
  "kernelspec": {
   "display_name": "Python 3 (ipykernel)",
   "language": "python",
   "name": "python3"
  },
  "language_info": {
   "codemirror_mode": {
    "name": "ipython",
    "version": 3
   },
   "file_extension": ".py",
   "mimetype": "text/x-python",
   "name": "python",
   "nbconvert_exporter": "python",
   "pygments_lexer": "ipython3",
   "version": "3.10.8"
  }
 },
 "nbformat": 4,
 "nbformat_minor": 5
}
